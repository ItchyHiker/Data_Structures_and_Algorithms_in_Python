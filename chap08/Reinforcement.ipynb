{
 "cells": [
  {
   "cell_type": "markdown",
   "metadata": {},
   "source": [
    "**R-8.1:**\n",
    "\n",
    "a. /user/rt/courses/ is the root\n",
    "\n",
    "b. any nodes besides root node and leaf node\n",
    "\n",
    "c. 9\n",
    "\n",
    "d: 1\n",
    "\n",
    "e: grades programs\n",
    "\n",
    "f:\n",
    "\n",
    "**8.2** the leaf node depth of a single branch tree\n"
   ]
  },
  {
   "cell_type": "code",
   "execution_count": null,
   "metadata": {},
   "outputs": [],
   "source": []
  }
 ],
 "metadata": {
  "kernelspec": {
   "display_name": "Python 3",
   "language": "python",
   "name": "python3"
  },
  "language_info": {
   "codemirror_mode": {
    "name": "ipython",
    "version": 3
   },
   "file_extension": ".py",
   "mimetype": "text/x-python",
   "name": "python",
   "nbconvert_exporter": "python",
   "pygments_lexer": "ipython3",
   "version": "3.6.5"
  }
 },
 "nbformat": 4,
 "nbformat_minor": 2
}
